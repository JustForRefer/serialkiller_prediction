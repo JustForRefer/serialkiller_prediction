{
  "nbformat": 4,
  "nbformat_minor": 0,
  "metadata": {
    "colab": {
      "name": "Untitled5.ipynb",
      "provenance": []
    },
    "kernelspec": {
      "name": "python3",
      "display_name": "Python 3"
    }
  },
  "cells": [
    {
      "cell_type": "code",
      "metadata": {
        "id": "q4VnlaReJWnq"
      },
      "source": [
        "import numpy as np\n",
        "import pandas as pd\n",
        "import seaborn as sns"
      ],
      "execution_count": null,
      "outputs": []
    },
    {
      "cell_type": "code",
      "metadata": {
        "colab": {
          "base_uri": "https://localhost:8080/"
        },
        "id": "ujwKO2dLJaL7",
        "outputId": "299424fb-199e-4a89-b827-3c2ada0b1f89"
      },
      "source": [
        "from google.colab import drive\n",
        "drive.mount(\"/content/drive\")"
      ],
      "execution_count": null,
      "outputs": [
        {
          "output_type": "stream",
          "text": [
            "Drive already mounted at /content/drive; to attempt to forcibly remount, call drive.mount(\"/content/drive\", force_remount=True).\n"
          ],
          "name": "stdout"
        }
      ]
    },
    {
      "cell_type": "code",
      "metadata": {
        "colab": {
          "base_uri": "https://localhost:8080/"
        },
        "id": "Sy6y1OwrJaPM",
        "outputId": "a19950cd-9360-4631-fa9b-342d49236efc"
      },
      "source": [
        "data = pd.read_csv(\"/content/drive/MyDrive/Serial_KillerML/serial_killer_dataset.csv\")"
      ],
      "execution_count": null,
      "outputs": [
        {
          "output_type": "stream",
          "text": [
            "/usr/local/lib/python3.7/dist-packages/IPython/core/interactiveshell.py:2718: DtypeWarning: Columns (16) have mixed types.Specify dtype option on import or set low_memory=False.\n",
            "  interactivity=interactivity, compiler=compiler, result=result)\n"
          ],
          "name": "stderr"
        }
      ]
    },
    {
      "cell_type": "code",
      "metadata": {
        "colab": {
          "base_uri": "https://localhost:8080/",
          "height": 367
        },
        "id": "D5AkzxJFJaS7",
        "outputId": "13b476b9-a41a-4978-9687-9f7b9dc7e53e"
      },
      "source": [
        "data.head()"
      ],
      "execution_count": null,
      "outputs": [
        {
          "output_type": "execute_result",
          "data": {
            "text/html": [
              "<div>\n",
              "<style scoped>\n",
              "    .dataframe tbody tr th:only-of-type {\n",
              "        vertical-align: middle;\n",
              "    }\n",
              "\n",
              "    .dataframe tbody tr th {\n",
              "        vertical-align: top;\n",
              "    }\n",
              "\n",
              "    .dataframe thead th {\n",
              "        text-align: right;\n",
              "    }\n",
              "</style>\n",
              "<table border=\"1\" class=\"dataframe\">\n",
              "  <thead>\n",
              "    <tr style=\"text-align: right;\">\n",
              "      <th></th>\n",
              "      <th>Record ID</th>\n",
              "      <th>Agency Code</th>\n",
              "      <th>Agency Name</th>\n",
              "      <th>Agency Type</th>\n",
              "      <th>City</th>\n",
              "      <th>State</th>\n",
              "      <th>Year</th>\n",
              "      <th>Month</th>\n",
              "      <th>Incident</th>\n",
              "      <th>Crime Type</th>\n",
              "      <th>Crime Solved</th>\n",
              "      <th>Victim Sex</th>\n",
              "      <th>Victim Age</th>\n",
              "      <th>Victim Race</th>\n",
              "      <th>Victim Ethnicity</th>\n",
              "      <th>Perpetrator Sex</th>\n",
              "      <th>Perpetrator Age</th>\n",
              "      <th>Perpetrator Race</th>\n",
              "      <th>Perpetrator Ethnicity</th>\n",
              "      <th>Relationship</th>\n",
              "      <th>Weapon</th>\n",
              "      <th>Victim Count</th>\n",
              "      <th>Perpetrator Count</th>\n",
              "      <th>Record Source</th>\n",
              "    </tr>\n",
              "  </thead>\n",
              "  <tbody>\n",
              "    <tr>\n",
              "      <th>0</th>\n",
              "      <td>1</td>\n",
              "      <td>AK00101</td>\n",
              "      <td>Anchorage</td>\n",
              "      <td>Municipal Police</td>\n",
              "      <td>Anchorage</td>\n",
              "      <td>Alaska</td>\n",
              "      <td>1980</td>\n",
              "      <td>January</td>\n",
              "      <td>1</td>\n",
              "      <td>Murder or Manslaughter</td>\n",
              "      <td>Yes</td>\n",
              "      <td>Male</td>\n",
              "      <td>14</td>\n",
              "      <td>Native American/Alaska Native</td>\n",
              "      <td>Unknown</td>\n",
              "      <td>Male</td>\n",
              "      <td>15</td>\n",
              "      <td>Native American/Alaska Native</td>\n",
              "      <td>Unknown</td>\n",
              "      <td>Acquaintance</td>\n",
              "      <td>Blunt Object</td>\n",
              "      <td>0</td>\n",
              "      <td>0</td>\n",
              "      <td>FBI</td>\n",
              "    </tr>\n",
              "    <tr>\n",
              "      <th>1</th>\n",
              "      <td>2</td>\n",
              "      <td>AK00101</td>\n",
              "      <td>Anchorage</td>\n",
              "      <td>Municipal Police</td>\n",
              "      <td>Anchorage</td>\n",
              "      <td>Alaska</td>\n",
              "      <td>1980</td>\n",
              "      <td>March</td>\n",
              "      <td>1</td>\n",
              "      <td>Murder or Manslaughter</td>\n",
              "      <td>Yes</td>\n",
              "      <td>Male</td>\n",
              "      <td>43</td>\n",
              "      <td>White</td>\n",
              "      <td>Unknown</td>\n",
              "      <td>Male</td>\n",
              "      <td>42</td>\n",
              "      <td>White</td>\n",
              "      <td>Unknown</td>\n",
              "      <td>Acquaintance</td>\n",
              "      <td>Strangulation</td>\n",
              "      <td>0</td>\n",
              "      <td>0</td>\n",
              "      <td>FBI</td>\n",
              "    </tr>\n",
              "    <tr>\n",
              "      <th>2</th>\n",
              "      <td>3</td>\n",
              "      <td>AK00101</td>\n",
              "      <td>Anchorage</td>\n",
              "      <td>Municipal Police</td>\n",
              "      <td>Anchorage</td>\n",
              "      <td>Alaska</td>\n",
              "      <td>1980</td>\n",
              "      <td>March</td>\n",
              "      <td>2</td>\n",
              "      <td>Murder or Manslaughter</td>\n",
              "      <td>No</td>\n",
              "      <td>Female</td>\n",
              "      <td>30</td>\n",
              "      <td>Native American/Alaska Native</td>\n",
              "      <td>Unknown</td>\n",
              "      <td>Unknown</td>\n",
              "      <td>0</td>\n",
              "      <td>Unknown</td>\n",
              "      <td>Unknown</td>\n",
              "      <td>Unknown</td>\n",
              "      <td>Unknown</td>\n",
              "      <td>0</td>\n",
              "      <td>0</td>\n",
              "      <td>FBI</td>\n",
              "    </tr>\n",
              "    <tr>\n",
              "      <th>3</th>\n",
              "      <td>4</td>\n",
              "      <td>AK00101</td>\n",
              "      <td>Anchorage</td>\n",
              "      <td>Municipal Police</td>\n",
              "      <td>Anchorage</td>\n",
              "      <td>Alaska</td>\n",
              "      <td>1980</td>\n",
              "      <td>April</td>\n",
              "      <td>1</td>\n",
              "      <td>Murder or Manslaughter</td>\n",
              "      <td>Yes</td>\n",
              "      <td>Male</td>\n",
              "      <td>43</td>\n",
              "      <td>White</td>\n",
              "      <td>Unknown</td>\n",
              "      <td>Male</td>\n",
              "      <td>42</td>\n",
              "      <td>White</td>\n",
              "      <td>Unknown</td>\n",
              "      <td>Acquaintance</td>\n",
              "      <td>Strangulation</td>\n",
              "      <td>0</td>\n",
              "      <td>0</td>\n",
              "      <td>FBI</td>\n",
              "    </tr>\n",
              "    <tr>\n",
              "      <th>4</th>\n",
              "      <td>5</td>\n",
              "      <td>AK00101</td>\n",
              "      <td>Anchorage</td>\n",
              "      <td>Municipal Police</td>\n",
              "      <td>Anchorage</td>\n",
              "      <td>Alaska</td>\n",
              "      <td>1980</td>\n",
              "      <td>April</td>\n",
              "      <td>2</td>\n",
              "      <td>Murder or Manslaughter</td>\n",
              "      <td>No</td>\n",
              "      <td>Female</td>\n",
              "      <td>30</td>\n",
              "      <td>Native American/Alaska Native</td>\n",
              "      <td>Unknown</td>\n",
              "      <td>Unknown</td>\n",
              "      <td>0</td>\n",
              "      <td>Unknown</td>\n",
              "      <td>Unknown</td>\n",
              "      <td>Unknown</td>\n",
              "      <td>Unknown</td>\n",
              "      <td>0</td>\n",
              "      <td>1</td>\n",
              "      <td>FBI</td>\n",
              "    </tr>\n",
              "  </tbody>\n",
              "</table>\n",
              "</div>"
            ],
            "text/plain": [
              "   Record ID Agency Code  ... Perpetrator Count Record Source\n",
              "0          1     AK00101  ...                 0           FBI\n",
              "1          2     AK00101  ...                 0           FBI\n",
              "2          3     AK00101  ...                 0           FBI\n",
              "3          4     AK00101  ...                 0           FBI\n",
              "4          5     AK00101  ...                 1           FBI\n",
              "\n",
              "[5 rows x 24 columns]"
            ]
          },
          "metadata": {
            "tags": []
          },
          "execution_count": 265
        }
      ]
    },
    {
      "cell_type": "code",
      "metadata": {
        "id": "5_9tLN8IvGeW"
      },
      "source": [
        "data = data.loc[538452:638454]"
      ],
      "execution_count": null,
      "outputs": []
    },
    {
      "cell_type": "code",
      "metadata": {
        "colab": {
          "base_uri": "https://localhost:8080/",
          "height": 317
        },
        "id": "uQhaofhsvERV",
        "outputId": "962efb19-a1f8-456d-b668-5310cc84fec8"
      },
      "source": [
        "data.head()"
      ],
      "execution_count": null,
      "outputs": [
        {
          "output_type": "execute_result",
          "data": {
            "text/html": [
              "<div>\n",
              "<style scoped>\n",
              "    .dataframe tbody tr th:only-of-type {\n",
              "        vertical-align: middle;\n",
              "    }\n",
              "\n",
              "    .dataframe tbody tr th {\n",
              "        vertical-align: top;\n",
              "    }\n",
              "\n",
              "    .dataframe thead th {\n",
              "        text-align: right;\n",
              "    }\n",
              "</style>\n",
              "<table border=\"1\" class=\"dataframe\">\n",
              "  <thead>\n",
              "    <tr style=\"text-align: right;\">\n",
              "      <th></th>\n",
              "      <th>Record ID</th>\n",
              "      <th>Agency Code</th>\n",
              "      <th>Agency Name</th>\n",
              "      <th>Agency Type</th>\n",
              "      <th>City</th>\n",
              "      <th>State</th>\n",
              "      <th>Year</th>\n",
              "      <th>Month</th>\n",
              "      <th>Incident</th>\n",
              "      <th>Crime Type</th>\n",
              "      <th>Crime Solved</th>\n",
              "      <th>Victim Sex</th>\n",
              "      <th>Victim Age</th>\n",
              "      <th>Victim Race</th>\n",
              "      <th>Victim Ethnicity</th>\n",
              "      <th>Perpetrator Sex</th>\n",
              "      <th>Perpetrator Age</th>\n",
              "      <th>Perpetrator Race</th>\n",
              "      <th>Perpetrator Ethnicity</th>\n",
              "      <th>Relationship</th>\n",
              "      <th>Weapon</th>\n",
              "      <th>Victim Count</th>\n",
              "      <th>Perpetrator Count</th>\n",
              "      <th>Record Source</th>\n",
              "    </tr>\n",
              "  </thead>\n",
              "  <tbody>\n",
              "    <tr>\n",
              "      <th>538452</th>\n",
              "      <td>538453</td>\n",
              "      <td>GA10601</td>\n",
              "      <td>Columbus</td>\n",
              "      <td>Municipal Police</td>\n",
              "      <td>Muscogee</td>\n",
              "      <td>Georgia</td>\n",
              "      <td>2008</td>\n",
              "      <td>December</td>\n",
              "      <td>5</td>\n",
              "      <td>Murder or Manslaughter</td>\n",
              "      <td>Yes</td>\n",
              "      <td>Male</td>\n",
              "      <td>30</td>\n",
              "      <td>Black</td>\n",
              "      <td>Unknown</td>\n",
              "      <td>Male</td>\n",
              "      <td>17</td>\n",
              "      <td>Black</td>\n",
              "      <td>Unknown</td>\n",
              "      <td>Acquaintance</td>\n",
              "      <td>Rifle</td>\n",
              "      <td>1</td>\n",
              "      <td>1</td>\n",
              "      <td>FBI</td>\n",
              "    </tr>\n",
              "    <tr>\n",
              "      <th>538453</th>\n",
              "      <td>538454</td>\n",
              "      <td>GA10601</td>\n",
              "      <td>Columbus</td>\n",
              "      <td>Municipal Police</td>\n",
              "      <td>Muscogee</td>\n",
              "      <td>Georgia</td>\n",
              "      <td>2008</td>\n",
              "      <td>January</td>\n",
              "      <td>1</td>\n",
              "      <td>Murder or Manslaughter</td>\n",
              "      <td>Yes</td>\n",
              "      <td>Female</td>\n",
              "      <td>23</td>\n",
              "      <td>White</td>\n",
              "      <td>Unknown</td>\n",
              "      <td>Male</td>\n",
              "      <td>30</td>\n",
              "      <td>White</td>\n",
              "      <td>Unknown</td>\n",
              "      <td>Girlfriend</td>\n",
              "      <td>Knife</td>\n",
              "      <td>0</td>\n",
              "      <td>0</td>\n",
              "      <td>FBI</td>\n",
              "    </tr>\n",
              "    <tr>\n",
              "      <th>538454</th>\n",
              "      <td>538455</td>\n",
              "      <td>GA10601</td>\n",
              "      <td>Columbus</td>\n",
              "      <td>Municipal Police</td>\n",
              "      <td>Muscogee</td>\n",
              "      <td>Georgia</td>\n",
              "      <td>2008</td>\n",
              "      <td>January</td>\n",
              "      <td>2</td>\n",
              "      <td>Murder or Manslaughter</td>\n",
              "      <td>Yes</td>\n",
              "      <td>Male</td>\n",
              "      <td>41</td>\n",
              "      <td>Unknown</td>\n",
              "      <td>Unknown</td>\n",
              "      <td>Male</td>\n",
              "      <td>54</td>\n",
              "      <td>Black</td>\n",
              "      <td>Unknown</td>\n",
              "      <td>Unknown</td>\n",
              "      <td>Knife</td>\n",
              "      <td>0</td>\n",
              "      <td>0</td>\n",
              "      <td>FBI</td>\n",
              "    </tr>\n",
              "    <tr>\n",
              "      <th>538455</th>\n",
              "      <td>538456</td>\n",
              "      <td>GA10601</td>\n",
              "      <td>Columbus</td>\n",
              "      <td>Municipal Police</td>\n",
              "      <td>Muscogee</td>\n",
              "      <td>Georgia</td>\n",
              "      <td>2008</td>\n",
              "      <td>February</td>\n",
              "      <td>1</td>\n",
              "      <td>Murder or Manslaughter</td>\n",
              "      <td>Yes</td>\n",
              "      <td>Male</td>\n",
              "      <td>31</td>\n",
              "      <td>Black</td>\n",
              "      <td>Unknown</td>\n",
              "      <td>Male</td>\n",
              "      <td>23</td>\n",
              "      <td>Black</td>\n",
              "      <td>Unknown</td>\n",
              "      <td>Stranger</td>\n",
              "      <td>Handgun</td>\n",
              "      <td>0</td>\n",
              "      <td>0</td>\n",
              "      <td>FBI</td>\n",
              "    </tr>\n",
              "    <tr>\n",
              "      <th>538456</th>\n",
              "      <td>538457</td>\n",
              "      <td>GA10601</td>\n",
              "      <td>Columbus</td>\n",
              "      <td>Municipal Police</td>\n",
              "      <td>Muscogee</td>\n",
              "      <td>Georgia</td>\n",
              "      <td>2008</td>\n",
              "      <td>February</td>\n",
              "      <td>2</td>\n",
              "      <td>Murder or Manslaughter</td>\n",
              "      <td>Yes</td>\n",
              "      <td>Male</td>\n",
              "      <td>1</td>\n",
              "      <td>Black</td>\n",
              "      <td>Unknown</td>\n",
              "      <td>Male</td>\n",
              "      <td>38</td>\n",
              "      <td>Black</td>\n",
              "      <td>Unknown</td>\n",
              "      <td>Unknown</td>\n",
              "      <td>Unknown</td>\n",
              "      <td>0</td>\n",
              "      <td>0</td>\n",
              "      <td>FBI</td>\n",
              "    </tr>\n",
              "  </tbody>\n",
              "</table>\n",
              "</div>"
            ],
            "text/plain": [
              "        Record ID Agency Code  ... Perpetrator Count Record Source\n",
              "538452     538453     GA10601  ...                 1           FBI\n",
              "538453     538454     GA10601  ...                 0           FBI\n",
              "538454     538455     GA10601  ...                 0           FBI\n",
              "538455     538456     GA10601  ...                 0           FBI\n",
              "538456     538457     GA10601  ...                 0           FBI\n",
              "\n",
              "[5 rows x 24 columns]"
            ]
          },
          "metadata": {
            "tags": []
          },
          "execution_count": 267
        }
      ]
    },
    {
      "cell_type": "code",
      "metadata": {
        "colab": {
          "base_uri": "https://localhost:8080/"
        },
        "id": "yF5if9HlJaac",
        "outputId": "f8a998d6-1db4-4ae1-e595-514fbbbd9dc2"
      },
      "source": [
        "data.shape"
      ],
      "execution_count": null,
      "outputs": [
        {
          "output_type": "execute_result",
          "data": {
            "text/plain": [
              "(100002, 24)"
            ]
          },
          "metadata": {
            "tags": []
          },
          "execution_count": 268
        }
      ]
    },
    {
      "cell_type": "code",
      "metadata": {
        "colab": {
          "base_uri": "https://localhost:8080/"
        },
        "id": "FGck6qcgMLEV",
        "outputId": "d7c9339f-b3dd-4fd0-964e-deedc4082494"
      },
      "source": [
        "data[data.columns].isnull().sum()"
      ],
      "execution_count": null,
      "outputs": [
        {
          "output_type": "execute_result",
          "data": {
            "text/plain": [
              "Record ID                0\n",
              "Agency Code              0\n",
              "Agency Name              0\n",
              "Agency Type              0\n",
              "City                     0\n",
              "State                    0\n",
              "Year                     0\n",
              "Month                    0\n",
              "Incident                 0\n",
              "Crime Type               0\n",
              "Crime Solved             0\n",
              "Victim Sex               0\n",
              "Victim Age               0\n",
              "Victim Race              0\n",
              "Victim Ethnicity         0\n",
              "Perpetrator Sex          0\n",
              "Perpetrator Age          0\n",
              "Perpetrator Race         0\n",
              "Perpetrator Ethnicity    0\n",
              "Relationship             0\n",
              "Weapon                   0\n",
              "Victim Count             0\n",
              "Perpetrator Count        0\n",
              "Record Source            0\n",
              "dtype: int64"
            ]
          },
          "metadata": {
            "tags": []
          },
          "execution_count": 269
        }
      ]
    },
    {
      "cell_type": "code",
      "metadata": {
        "id": "tXuxdQf7MLhg"
      },
      "source": [
        "n = data.nunique(axis=0) "
      ],
      "execution_count": null,
      "outputs": []
    },
    {
      "cell_type": "code",
      "metadata": {
        "id": "A0jJg1GqJagL",
        "colab": {
          "base_uri": "https://localhost:8080/"
        },
        "outputId": "4dd1f2c0-aea4-4d92-9929-10c420ef8f9b"
      },
      "source": [
        "n"
      ],
      "execution_count": null,
      "outputs": [
        {
          "output_type": "execute_result",
          "data": {
            "text/plain": [
              "Record ID                100002\n",
              "Agency Code                7055\n",
              "Agency Name                5969\n",
              "Agency Type                   7\n",
              "City                       1539\n",
              "State                        51\n",
              "Year                          7\n",
              "Month                        12\n",
              "Incident                   1000\n",
              "Crime Type                    2\n",
              "Crime Solved                  2\n",
              "Victim Sex                    3\n",
              "Victim Age                  101\n",
              "Victim Race                   5\n",
              "Victim Ethnicity              3\n",
              "Perpetrator Sex               3\n",
              "Perpetrator Age             188\n",
              "Perpetrator Race              5\n",
              "Perpetrator Ethnicity         3\n",
              "Relationship                 28\n",
              "Weapon                       16\n",
              "Victim Count                 10\n",
              "Perpetrator Count            11\n",
              "Record Source                 2\n",
              "dtype: int64"
            ]
          },
          "metadata": {
            "tags": []
          },
          "execution_count": 271
        }
      ]
    },
    {
      "cell_type": "code",
      "metadata": {
        "id": "-apelQEIJaju"
      },
      "source": [
        "data = data.copy()\n",
        "dummies = pd.get_dummies(data['Crime Type'], prefix=\"Crime\")\n",
        "data = pd.concat([data, dummies], axis=1)\n",
        "data = data.drop('Crime Type',axis=1)"
      ],
      "execution_count": null,
      "outputs": []
    },
    {
      "cell_type": "code",
      "metadata": {
        "id": "OGd79ViyOu7X"
      },
      "source": [
        "data = data.copy()\n",
        "dummies = pd.get_dummies(data['Victim Race'], prefix=\"Victim_Race\")\n",
        "data = pd.concat([data, dummies], axis=1)\n",
        "data = data.drop('Victim Race',axis=1)"
      ],
      "execution_count": null,
      "outputs": []
    },
    {
      "cell_type": "code",
      "metadata": {
        "id": "AJh7FvPhOu98"
      },
      "source": [
        "data = data.copy()\n",
        "dummies = pd.get_dummies(data['Victim Ethnicity'], prefix=\"Victim_Ethnicity\")\n",
        "data = pd.concat([data, dummies], axis=1)\n",
        "data = data.drop('Victim Ethnicity',axis=1)"
      ],
      "execution_count": null,
      "outputs": []
    },
    {
      "cell_type": "code",
      "metadata": {
        "id": "LELJ_1aJOvMb"
      },
      "source": [
        "data = data.copy()\n",
        "dummies = pd.get_dummies(data['Perpetrator Sex'], prefix=\"Perpetrator_Sex\")\n",
        "data = pd.concat([data, dummies], axis=1)\n",
        "data = data.drop('Perpetrator Sex',axis=1)"
      ],
      "execution_count": null,
      "outputs": []
    },
    {
      "cell_type": "code",
      "metadata": {
        "id": "R4NPEUH2OvPU"
      },
      "source": [
        "data = data.copy()\n",
        "dummies = pd.get_dummies(data['Perpetrator Ethnicity'], prefix=\"Perpetrator_Ethnicity\")\n",
        "data = pd.concat([data, dummies], axis=1)\n",
        "data = data.drop('Perpetrator Ethnicity',axis=1)"
      ],
      "execution_count": null,
      "outputs": []
    },
    {
      "cell_type": "code",
      "metadata": {
        "id": "YbwCY7eJOvVb"
      },
      "source": [
        "data = data.copy()\n",
        "dummies = pd.get_dummies(data['Record Source'], prefix=\"Record_Source\")\n",
        "data = pd.concat([data, dummies], axis=1)\n",
        "data = data.drop('Record Source',axis=1)"
      ],
      "execution_count": null,
      "outputs": []
    },
    {
      "cell_type": "code",
      "metadata": {
        "id": "CrcsJQfPOvYA"
      },
      "source": [
        "data = data.copy()\n",
        "dummies = pd.get_dummies(data['Victim Sex'], prefix=\"Victim_Sex\")\n",
        "data = pd.concat([data, dummies], axis=1)\n",
        "data = data.drop('Victim Sex',axis=1)"
      ],
      "execution_count": null,
      "outputs": []
    },
    {
      "cell_type": "code",
      "metadata": {
        "id": "TQYJv98pJanG"
      },
      "source": [
        "dummies = pd.get_dummies(data['Perpetrator Race'], prefix=\"Perpetrator_Race\")\n",
        "data = pd.concat([data, dummies], axis=1)\n",
        "data = data.drop('Perpetrator Race', axis=1)\n",
        "data = data.copy()"
      ],
      "execution_count": null,
      "outputs": []
    },
    {
      "cell_type": "code",
      "metadata": {
        "id": "XVfzhYz_aDyP"
      },
      "source": [
        "dummies = pd.get_dummies(data['Agency Type'], prefix=\"Agency_Type\")\n",
        "data = pd.concat([data, dummies], axis=1)\n",
        "data = data.drop('Agency Type', axis=1)\n",
        "data = data.copy()"
      ],
      "execution_count": null,
      "outputs": []
    },
    {
      "cell_type": "code",
      "metadata": {
        "colab": {
          "base_uri": "https://localhost:8080/",
          "height": 250
        },
        "id": "I34ZMrmbJaqM",
        "outputId": "e0d61862-26fa-4e6e-d866-7fa85ad2ac30"
      },
      "source": [
        "data.head()"
      ],
      "execution_count": null,
      "outputs": [
        {
          "output_type": "execute_result",
          "data": {
            "text/html": [
              "<div>\n",
              "<style scoped>\n",
              "    .dataframe tbody tr th:only-of-type {\n",
              "        vertical-align: middle;\n",
              "    }\n",
              "\n",
              "    .dataframe tbody tr th {\n",
              "        vertical-align: top;\n",
              "    }\n",
              "\n",
              "    .dataframe thead th {\n",
              "        text-align: right;\n",
              "    }\n",
              "</style>\n",
              "<table border=\"1\" class=\"dataframe\">\n",
              "  <thead>\n",
              "    <tr style=\"text-align: right;\">\n",
              "      <th></th>\n",
              "      <th>Record ID</th>\n",
              "      <th>Agency Code</th>\n",
              "      <th>Agency Name</th>\n",
              "      <th>City</th>\n",
              "      <th>State</th>\n",
              "      <th>Year</th>\n",
              "      <th>Month</th>\n",
              "      <th>Incident</th>\n",
              "      <th>Crime Solved</th>\n",
              "      <th>Victim Age</th>\n",
              "      <th>Perpetrator Age</th>\n",
              "      <th>Relationship</th>\n",
              "      <th>Weapon</th>\n",
              "      <th>Victim Count</th>\n",
              "      <th>Perpetrator Count</th>\n",
              "      <th>Crime_Manslaughter by Negligence</th>\n",
              "      <th>Crime_Murder or Manslaughter</th>\n",
              "      <th>Victim_Race_Asian/Pacific Islander</th>\n",
              "      <th>Victim_Race_Black</th>\n",
              "      <th>Victim_Race_Native American/Alaska Native</th>\n",
              "      <th>Victim_Race_Unknown</th>\n",
              "      <th>Victim_Race_White</th>\n",
              "      <th>Victim_Ethnicity_Hispanic</th>\n",
              "      <th>Victim_Ethnicity_Not Hispanic</th>\n",
              "      <th>Victim_Ethnicity_Unknown</th>\n",
              "      <th>Perpetrator_Sex_Female</th>\n",
              "      <th>Perpetrator_Sex_Male</th>\n",
              "      <th>Perpetrator_Sex_Unknown</th>\n",
              "      <th>Perpetrator_Ethnicity_Hispanic</th>\n",
              "      <th>Perpetrator_Ethnicity_Not Hispanic</th>\n",
              "      <th>Perpetrator_Ethnicity_Unknown</th>\n",
              "      <th>Record_Source_FBI</th>\n",
              "      <th>Record_Source_FOIA</th>\n",
              "      <th>Victim_Sex_Female</th>\n",
              "      <th>Victim_Sex_Male</th>\n",
              "      <th>Victim_Sex_Unknown</th>\n",
              "      <th>Perpetrator_Race_Asian/Pacific Islander</th>\n",
              "      <th>Perpetrator_Race_Black</th>\n",
              "      <th>Perpetrator_Race_Native American/Alaska Native</th>\n",
              "      <th>Perpetrator_Race_Unknown</th>\n",
              "      <th>Perpetrator_Race_White</th>\n",
              "      <th>Agency_Type_County Police</th>\n",
              "      <th>Agency_Type_Municipal Police</th>\n",
              "      <th>Agency_Type_Regional Police</th>\n",
              "      <th>Agency_Type_Sheriff</th>\n",
              "      <th>Agency_Type_Special Police</th>\n",
              "      <th>Agency_Type_State Police</th>\n",
              "      <th>Agency_Type_Tribal Police</th>\n",
              "    </tr>\n",
              "  </thead>\n",
              "  <tbody>\n",
              "    <tr>\n",
              "      <th>538452</th>\n",
              "      <td>538453</td>\n",
              "      <td>GA10601</td>\n",
              "      <td>Columbus</td>\n",
              "      <td>Muscogee</td>\n",
              "      <td>Georgia</td>\n",
              "      <td>2008</td>\n",
              "      <td>December</td>\n",
              "      <td>5</td>\n",
              "      <td>Yes</td>\n",
              "      <td>30</td>\n",
              "      <td>17</td>\n",
              "      <td>Acquaintance</td>\n",
              "      <td>Rifle</td>\n",
              "      <td>1</td>\n",
              "      <td>1</td>\n",
              "      <td>0</td>\n",
              "      <td>1</td>\n",
              "      <td>0</td>\n",
              "      <td>1</td>\n",
              "      <td>0</td>\n",
              "      <td>0</td>\n",
              "      <td>0</td>\n",
              "      <td>0</td>\n",
              "      <td>0</td>\n",
              "      <td>1</td>\n",
              "      <td>0</td>\n",
              "      <td>1</td>\n",
              "      <td>0</td>\n",
              "      <td>0</td>\n",
              "      <td>0</td>\n",
              "      <td>1</td>\n",
              "      <td>1</td>\n",
              "      <td>0</td>\n",
              "      <td>0</td>\n",
              "      <td>1</td>\n",
              "      <td>0</td>\n",
              "      <td>0</td>\n",
              "      <td>1</td>\n",
              "      <td>0</td>\n",
              "      <td>0</td>\n",
              "      <td>0</td>\n",
              "      <td>0</td>\n",
              "      <td>1</td>\n",
              "      <td>0</td>\n",
              "      <td>0</td>\n",
              "      <td>0</td>\n",
              "      <td>0</td>\n",
              "      <td>0</td>\n",
              "    </tr>\n",
              "    <tr>\n",
              "      <th>538453</th>\n",
              "      <td>538454</td>\n",
              "      <td>GA10601</td>\n",
              "      <td>Columbus</td>\n",
              "      <td>Muscogee</td>\n",
              "      <td>Georgia</td>\n",
              "      <td>2008</td>\n",
              "      <td>January</td>\n",
              "      <td>1</td>\n",
              "      <td>Yes</td>\n",
              "      <td>23</td>\n",
              "      <td>30</td>\n",
              "      <td>Girlfriend</td>\n",
              "      <td>Knife</td>\n",
              "      <td>0</td>\n",
              "      <td>0</td>\n",
              "      <td>0</td>\n",
              "      <td>1</td>\n",
              "      <td>0</td>\n",
              "      <td>0</td>\n",
              "      <td>0</td>\n",
              "      <td>0</td>\n",
              "      <td>1</td>\n",
              "      <td>0</td>\n",
              "      <td>0</td>\n",
              "      <td>1</td>\n",
              "      <td>0</td>\n",
              "      <td>1</td>\n",
              "      <td>0</td>\n",
              "      <td>0</td>\n",
              "      <td>0</td>\n",
              "      <td>1</td>\n",
              "      <td>1</td>\n",
              "      <td>0</td>\n",
              "      <td>1</td>\n",
              "      <td>0</td>\n",
              "      <td>0</td>\n",
              "      <td>0</td>\n",
              "      <td>0</td>\n",
              "      <td>0</td>\n",
              "      <td>0</td>\n",
              "      <td>1</td>\n",
              "      <td>0</td>\n",
              "      <td>1</td>\n",
              "      <td>0</td>\n",
              "      <td>0</td>\n",
              "      <td>0</td>\n",
              "      <td>0</td>\n",
              "      <td>0</td>\n",
              "    </tr>\n",
              "    <tr>\n",
              "      <th>538454</th>\n",
              "      <td>538455</td>\n",
              "      <td>GA10601</td>\n",
              "      <td>Columbus</td>\n",
              "      <td>Muscogee</td>\n",
              "      <td>Georgia</td>\n",
              "      <td>2008</td>\n",
              "      <td>January</td>\n",
              "      <td>2</td>\n",
              "      <td>Yes</td>\n",
              "      <td>41</td>\n",
              "      <td>54</td>\n",
              "      <td>Unknown</td>\n",
              "      <td>Knife</td>\n",
              "      <td>0</td>\n",
              "      <td>0</td>\n",
              "      <td>0</td>\n",
              "      <td>1</td>\n",
              "      <td>0</td>\n",
              "      <td>0</td>\n",
              "      <td>0</td>\n",
              "      <td>1</td>\n",
              "      <td>0</td>\n",
              "      <td>0</td>\n",
              "      <td>0</td>\n",
              "      <td>1</td>\n",
              "      <td>0</td>\n",
              "      <td>1</td>\n",
              "      <td>0</td>\n",
              "      <td>0</td>\n",
              "      <td>0</td>\n",
              "      <td>1</td>\n",
              "      <td>1</td>\n",
              "      <td>0</td>\n",
              "      <td>0</td>\n",
              "      <td>1</td>\n",
              "      <td>0</td>\n",
              "      <td>0</td>\n",
              "      <td>1</td>\n",
              "      <td>0</td>\n",
              "      <td>0</td>\n",
              "      <td>0</td>\n",
              "      <td>0</td>\n",
              "      <td>1</td>\n",
              "      <td>0</td>\n",
              "      <td>0</td>\n",
              "      <td>0</td>\n",
              "      <td>0</td>\n",
              "      <td>0</td>\n",
              "    </tr>\n",
              "    <tr>\n",
              "      <th>538455</th>\n",
              "      <td>538456</td>\n",
              "      <td>GA10601</td>\n",
              "      <td>Columbus</td>\n",
              "      <td>Muscogee</td>\n",
              "      <td>Georgia</td>\n",
              "      <td>2008</td>\n",
              "      <td>February</td>\n",
              "      <td>1</td>\n",
              "      <td>Yes</td>\n",
              "      <td>31</td>\n",
              "      <td>23</td>\n",
              "      <td>Stranger</td>\n",
              "      <td>Handgun</td>\n",
              "      <td>0</td>\n",
              "      <td>0</td>\n",
              "      <td>0</td>\n",
              "      <td>1</td>\n",
              "      <td>0</td>\n",
              "      <td>1</td>\n",
              "      <td>0</td>\n",
              "      <td>0</td>\n",
              "      <td>0</td>\n",
              "      <td>0</td>\n",
              "      <td>0</td>\n",
              "      <td>1</td>\n",
              "      <td>0</td>\n",
              "      <td>1</td>\n",
              "      <td>0</td>\n",
              "      <td>0</td>\n",
              "      <td>0</td>\n",
              "      <td>1</td>\n",
              "      <td>1</td>\n",
              "      <td>0</td>\n",
              "      <td>0</td>\n",
              "      <td>1</td>\n",
              "      <td>0</td>\n",
              "      <td>0</td>\n",
              "      <td>1</td>\n",
              "      <td>0</td>\n",
              "      <td>0</td>\n",
              "      <td>0</td>\n",
              "      <td>0</td>\n",
              "      <td>1</td>\n",
              "      <td>0</td>\n",
              "      <td>0</td>\n",
              "      <td>0</td>\n",
              "      <td>0</td>\n",
              "      <td>0</td>\n",
              "    </tr>\n",
              "    <tr>\n",
              "      <th>538456</th>\n",
              "      <td>538457</td>\n",
              "      <td>GA10601</td>\n",
              "      <td>Columbus</td>\n",
              "      <td>Muscogee</td>\n",
              "      <td>Georgia</td>\n",
              "      <td>2008</td>\n",
              "      <td>February</td>\n",
              "      <td>2</td>\n",
              "      <td>Yes</td>\n",
              "      <td>1</td>\n",
              "      <td>38</td>\n",
              "      <td>Unknown</td>\n",
              "      <td>Unknown</td>\n",
              "      <td>0</td>\n",
              "      <td>0</td>\n",
              "      <td>0</td>\n",
              "      <td>1</td>\n",
              "      <td>0</td>\n",
              "      <td>1</td>\n",
              "      <td>0</td>\n",
              "      <td>0</td>\n",
              "      <td>0</td>\n",
              "      <td>0</td>\n",
              "      <td>0</td>\n",
              "      <td>1</td>\n",
              "      <td>0</td>\n",
              "      <td>1</td>\n",
              "      <td>0</td>\n",
              "      <td>0</td>\n",
              "      <td>0</td>\n",
              "      <td>1</td>\n",
              "      <td>1</td>\n",
              "      <td>0</td>\n",
              "      <td>0</td>\n",
              "      <td>1</td>\n",
              "      <td>0</td>\n",
              "      <td>0</td>\n",
              "      <td>1</td>\n",
              "      <td>0</td>\n",
              "      <td>0</td>\n",
              "      <td>0</td>\n",
              "      <td>0</td>\n",
              "      <td>1</td>\n",
              "      <td>0</td>\n",
              "      <td>0</td>\n",
              "      <td>0</td>\n",
              "      <td>0</td>\n",
              "      <td>0</td>\n",
              "    </tr>\n",
              "  </tbody>\n",
              "</table>\n",
              "</div>"
            ],
            "text/plain": [
              "        Record ID  ... Agency_Type_Tribal Police\n",
              "538452     538453  ...                         0\n",
              "538453     538454  ...                         0\n",
              "538454     538455  ...                         0\n",
              "538455     538456  ...                         0\n",
              "538456     538457  ...                         0\n",
              "\n",
              "[5 rows x 48 columns]"
            ]
          },
          "metadata": {
            "tags": []
          },
          "execution_count": 281
        }
      ]
    },
    {
      "cell_type": "code",
      "metadata": {
        "id": "B2gUsBZXECBx"
      },
      "source": [
        "data = data.drop(['Year','Record ID','Perpetrator Age'],axis=1)"
      ],
      "execution_count": null,
      "outputs": []
    },
    {
      "cell_type": "code",
      "metadata": {
        "id": "fJIHATLuECEP"
      },
      "source": [
        "from sklearn.preprocessing import LabelEncoder\n",
        "le = LabelEncoder()\n",
        "data['Agency Code'] = le.fit_transform(data['Agency Code'])\n",
        "data['Agency Name'] = le.fit_transform(data['Agency Name'])\n",
        "data['City'] = le.fit_transform(data['City'])\n",
        "data['State'] = le.fit_transform(data['State'])\n",
        "data['Relationship'] = le.fit_transform(data['Relationship'])\n",
        "data['Month'] = le.fit_transform(data['Month'])\n",
        "data['Crime Solved'] = le.fit_transform(data['Crime Solved'])\n",
        "data['Weapon'] = le.fit_transform(data['Weapon'])"
      ],
      "execution_count": null,
      "outputs": []
    },
    {
      "cell_type": "code",
      "metadata": {
        "colab": {
          "base_uri": "https://localhost:8080/"
        },
        "id": "9sm4gYVGECHP",
        "outputId": "0f4412a6-1fe8-42ea-a9db-dff488011998"
      },
      "source": [
        "n\n"
      ],
      "execution_count": null,
      "outputs": [
        {
          "output_type": "execute_result",
          "data": {
            "text/plain": [
              "Record ID                100002\n",
              "Agency Code                7055\n",
              "Agency Name                5969\n",
              "Agency Type                   7\n",
              "City                       1539\n",
              "State                        51\n",
              "Year                          7\n",
              "Month                        12\n",
              "Incident                   1000\n",
              "Crime Type                    2\n",
              "Crime Solved                  2\n",
              "Victim Sex                    3\n",
              "Victim Age                  101\n",
              "Victim Race                   5\n",
              "Victim Ethnicity              3\n",
              "Perpetrator Sex               3\n",
              "Perpetrator Age             188\n",
              "Perpetrator Race              5\n",
              "Perpetrator Ethnicity         3\n",
              "Relationship                 28\n",
              "Weapon                       16\n",
              "Victim Count                 10\n",
              "Perpetrator Count            11\n",
              "Record Source                 2\n",
              "dtype: int64"
            ]
          },
          "metadata": {
            "tags": []
          },
          "execution_count": 284
        }
      ]
    },
    {
      "cell_type": "code",
      "metadata": {
        "colab": {
          "base_uri": "https://localhost:8080/",
          "height": 458
        },
        "id": "y47kI_VDECJz",
        "outputId": "e7dc6ce6-7797-4b3c-e94d-5f44074fb241"
      },
      "source": [
        "data"
      ],
      "execution_count": null,
      "outputs": [
        {
          "output_type": "execute_result",
          "data": {
            "text/html": [
              "<div>\n",
              "<style scoped>\n",
              "    .dataframe tbody tr th:only-of-type {\n",
              "        vertical-align: middle;\n",
              "    }\n",
              "\n",
              "    .dataframe tbody tr th {\n",
              "        vertical-align: top;\n",
              "    }\n",
              "\n",
              "    .dataframe thead th {\n",
              "        text-align: right;\n",
              "    }\n",
              "</style>\n",
              "<table border=\"1\" class=\"dataframe\">\n",
              "  <thead>\n",
              "    <tr style=\"text-align: right;\">\n",
              "      <th></th>\n",
              "      <th>Agency Code</th>\n",
              "      <th>Agency Name</th>\n",
              "      <th>City</th>\n",
              "      <th>State</th>\n",
              "      <th>Month</th>\n",
              "      <th>Incident</th>\n",
              "      <th>Crime Solved</th>\n",
              "      <th>Victim Age</th>\n",
              "      <th>Relationship</th>\n",
              "      <th>Weapon</th>\n",
              "      <th>Victim Count</th>\n",
              "      <th>Perpetrator Count</th>\n",
              "      <th>Crime_Manslaughter by Negligence</th>\n",
              "      <th>Crime_Murder or Manslaughter</th>\n",
              "      <th>Victim_Race_Asian/Pacific Islander</th>\n",
              "      <th>Victim_Race_Black</th>\n",
              "      <th>Victim_Race_Native American/Alaska Native</th>\n",
              "      <th>Victim_Race_Unknown</th>\n",
              "      <th>Victim_Race_White</th>\n",
              "      <th>Victim_Ethnicity_Hispanic</th>\n",
              "      <th>Victim_Ethnicity_Not Hispanic</th>\n",
              "      <th>Victim_Ethnicity_Unknown</th>\n",
              "      <th>Perpetrator_Sex_Female</th>\n",
              "      <th>Perpetrator_Sex_Male</th>\n",
              "      <th>Perpetrator_Sex_Unknown</th>\n",
              "      <th>Perpetrator_Ethnicity_Hispanic</th>\n",
              "      <th>Perpetrator_Ethnicity_Not Hispanic</th>\n",
              "      <th>Perpetrator_Ethnicity_Unknown</th>\n",
              "      <th>Record_Source_FBI</th>\n",
              "      <th>Record_Source_FOIA</th>\n",
              "      <th>Victim_Sex_Female</th>\n",
              "      <th>Victim_Sex_Male</th>\n",
              "      <th>Victim_Sex_Unknown</th>\n",
              "      <th>Perpetrator_Race_Asian/Pacific Islander</th>\n",
              "      <th>Perpetrator_Race_Black</th>\n",
              "      <th>Perpetrator_Race_Native American/Alaska Native</th>\n",
              "      <th>Perpetrator_Race_Unknown</th>\n",
              "      <th>Perpetrator_Race_White</th>\n",
              "      <th>Agency_Type_County Police</th>\n",
              "      <th>Agency_Type_Municipal Police</th>\n",
              "      <th>Agency_Type_Regional Police</th>\n",
              "      <th>Agency_Type_Sheriff</th>\n",
              "      <th>Agency_Type_Special Police</th>\n",
              "      <th>Agency_Type_State Police</th>\n",
              "      <th>Agency_Type_Tribal Police</th>\n",
              "    </tr>\n",
              "  </thead>\n",
              "  <tbody>\n",
              "    <tr>\n",
              "      <th>538452</th>\n",
              "      <td>1439</td>\n",
              "      <td>1045</td>\n",
              "      <td>949</td>\n",
              "      <td>10</td>\n",
              "      <td>2</td>\n",
              "      <td>5</td>\n",
              "      <td>1</td>\n",
              "      <td>30</td>\n",
              "      <td>0</td>\n",
              "      <td>11</td>\n",
              "      <td>1</td>\n",
              "      <td>1</td>\n",
              "      <td>0</td>\n",
              "      <td>1</td>\n",
              "      <td>0</td>\n",
              "      <td>1</td>\n",
              "      <td>0</td>\n",
              "      <td>0</td>\n",
              "      <td>0</td>\n",
              "      <td>0</td>\n",
              "      <td>0</td>\n",
              "      <td>1</td>\n",
              "      <td>0</td>\n",
              "      <td>1</td>\n",
              "      <td>0</td>\n",
              "      <td>0</td>\n",
              "      <td>0</td>\n",
              "      <td>1</td>\n",
              "      <td>1</td>\n",
              "      <td>0</td>\n",
              "      <td>0</td>\n",
              "      <td>1</td>\n",
              "      <td>0</td>\n",
              "      <td>0</td>\n",
              "      <td>1</td>\n",
              "      <td>0</td>\n",
              "      <td>0</td>\n",
              "      <td>0</td>\n",
              "      <td>0</td>\n",
              "      <td>1</td>\n",
              "      <td>0</td>\n",
              "      <td>0</td>\n",
              "      <td>0</td>\n",
              "      <td>0</td>\n",
              "      <td>0</td>\n",
              "    </tr>\n",
              "    <tr>\n",
              "      <th>538453</th>\n",
              "      <td>1439</td>\n",
              "      <td>1045</td>\n",
              "      <td>949</td>\n",
              "      <td>10</td>\n",
              "      <td>4</td>\n",
              "      <td>1</td>\n",
              "      <td>1</td>\n",
              "      <td>23</td>\n",
              "      <td>14</td>\n",
              "      <td>9</td>\n",
              "      <td>0</td>\n",
              "      <td>0</td>\n",
              "      <td>0</td>\n",
              "      <td>1</td>\n",
              "      <td>0</td>\n",
              "      <td>0</td>\n",
              "      <td>0</td>\n",
              "      <td>0</td>\n",
              "      <td>1</td>\n",
              "      <td>0</td>\n",
              "      <td>0</td>\n",
              "      <td>1</td>\n",
              "      <td>0</td>\n",
              "      <td>1</td>\n",
              "      <td>0</td>\n",
              "      <td>0</td>\n",
              "      <td>0</td>\n",
              "      <td>1</td>\n",
              "      <td>1</td>\n",
              "      <td>0</td>\n",
              "      <td>1</td>\n",
              "      <td>0</td>\n",
              "      <td>0</td>\n",
              "      <td>0</td>\n",
              "      <td>0</td>\n",
              "      <td>0</td>\n",
              "      <td>0</td>\n",
              "      <td>1</td>\n",
              "      <td>0</td>\n",
              "      <td>1</td>\n",
              "      <td>0</td>\n",
              "      <td>0</td>\n",
              "      <td>0</td>\n",
              "      <td>0</td>\n",
              "      <td>0</td>\n",
              "    </tr>\n",
              "    <tr>\n",
              "      <th>538454</th>\n",
              "      <td>1439</td>\n",
              "      <td>1045</td>\n",
              "      <td>949</td>\n",
              "      <td>10</td>\n",
              "      <td>4</td>\n",
              "      <td>2</td>\n",
              "      <td>1</td>\n",
              "      <td>41</td>\n",
              "      <td>26</td>\n",
              "      <td>9</td>\n",
              "      <td>0</td>\n",
              "      <td>0</td>\n",
              "      <td>0</td>\n",
              "      <td>1</td>\n",
              "      <td>0</td>\n",
              "      <td>0</td>\n",
              "      <td>0</td>\n",
              "      <td>1</td>\n",
              "      <td>0</td>\n",
              "      <td>0</td>\n",
              "      <td>0</td>\n",
              "      <td>1</td>\n",
              "      <td>0</td>\n",
              "      <td>1</td>\n",
              "      <td>0</td>\n",
              "      <td>0</td>\n",
              "      <td>0</td>\n",
              "      <td>1</td>\n",
              "      <td>1</td>\n",
              "      <td>0</td>\n",
              "      <td>0</td>\n",
              "      <td>1</td>\n",
              "      <td>0</td>\n",
              "      <td>0</td>\n",
              "      <td>1</td>\n",
              "      <td>0</td>\n",
              "      <td>0</td>\n",
              "      <td>0</td>\n",
              "      <td>0</td>\n",
              "      <td>1</td>\n",
              "      <td>0</td>\n",
              "      <td>0</td>\n",
              "      <td>0</td>\n",
              "      <td>0</td>\n",
              "      <td>0</td>\n",
              "    </tr>\n",
              "    <tr>\n",
              "      <th>538455</th>\n",
              "      <td>1439</td>\n",
              "      <td>1045</td>\n",
              "      <td>949</td>\n",
              "      <td>10</td>\n",
              "      <td>3</td>\n",
              "      <td>1</td>\n",
              "      <td>1</td>\n",
              "      <td>31</td>\n",
              "      <td>25</td>\n",
              "      <td>8</td>\n",
              "      <td>0</td>\n",
              "      <td>0</td>\n",
              "      <td>0</td>\n",
              "      <td>1</td>\n",
              "      <td>0</td>\n",
              "      <td>1</td>\n",
              "      <td>0</td>\n",
              "      <td>0</td>\n",
              "      <td>0</td>\n",
              "      <td>0</td>\n",
              "      <td>0</td>\n",
              "      <td>1</td>\n",
              "      <td>0</td>\n",
              "      <td>1</td>\n",
              "      <td>0</td>\n",
              "      <td>0</td>\n",
              "      <td>0</td>\n",
              "      <td>1</td>\n",
              "      <td>1</td>\n",
              "      <td>0</td>\n",
              "      <td>0</td>\n",
              "      <td>1</td>\n",
              "      <td>0</td>\n",
              "      <td>0</td>\n",
              "      <td>1</td>\n",
              "      <td>0</td>\n",
              "      <td>0</td>\n",
              "      <td>0</td>\n",
              "      <td>0</td>\n",
              "      <td>1</td>\n",
              "      <td>0</td>\n",
              "      <td>0</td>\n",
              "      <td>0</td>\n",
              "      <td>0</td>\n",
              "      <td>0</td>\n",
              "    </tr>\n",
              "    <tr>\n",
              "      <th>538456</th>\n",
              "      <td>1439</td>\n",
              "      <td>1045</td>\n",
              "      <td>949</td>\n",
              "      <td>10</td>\n",
              "      <td>3</td>\n",
              "      <td>2</td>\n",
              "      <td>1</td>\n",
              "      <td>1</td>\n",
              "      <td>26</td>\n",
              "      <td>15</td>\n",
              "      <td>0</td>\n",
              "      <td>0</td>\n",
              "      <td>0</td>\n",
              "      <td>1</td>\n",
              "      <td>0</td>\n",
              "      <td>1</td>\n",
              "      <td>0</td>\n",
              "      <td>0</td>\n",
              "      <td>0</td>\n",
              "      <td>0</td>\n",
              "      <td>0</td>\n",
              "      <td>1</td>\n",
              "      <td>0</td>\n",
              "      <td>1</td>\n",
              "      <td>0</td>\n",
              "      <td>0</td>\n",
              "      <td>0</td>\n",
              "      <td>1</td>\n",
              "      <td>1</td>\n",
              "      <td>0</td>\n",
              "      <td>0</td>\n",
              "      <td>1</td>\n",
              "      <td>0</td>\n",
              "      <td>0</td>\n",
              "      <td>1</td>\n",
              "      <td>0</td>\n",
              "      <td>0</td>\n",
              "      <td>0</td>\n",
              "      <td>0</td>\n",
              "      <td>1</td>\n",
              "      <td>0</td>\n",
              "      <td>0</td>\n",
              "      <td>0</td>\n",
              "      <td>0</td>\n",
              "      <td>0</td>\n",
              "    </tr>\n",
              "    <tr>\n",
              "      <th>...</th>\n",
              "      <td>...</td>\n",
              "      <td>...</td>\n",
              "      <td>...</td>\n",
              "      <td>...</td>\n",
              "      <td>...</td>\n",
              "      <td>...</td>\n",
              "      <td>...</td>\n",
              "      <td>...</td>\n",
              "      <td>...</td>\n",
              "      <td>...</td>\n",
              "      <td>...</td>\n",
              "      <td>...</td>\n",
              "      <td>...</td>\n",
              "      <td>...</td>\n",
              "      <td>...</td>\n",
              "      <td>...</td>\n",
              "      <td>...</td>\n",
              "      <td>...</td>\n",
              "      <td>...</td>\n",
              "      <td>...</td>\n",
              "      <td>...</td>\n",
              "      <td>...</td>\n",
              "      <td>...</td>\n",
              "      <td>...</td>\n",
              "      <td>...</td>\n",
              "      <td>...</td>\n",
              "      <td>...</td>\n",
              "      <td>...</td>\n",
              "      <td>...</td>\n",
              "      <td>...</td>\n",
              "      <td>...</td>\n",
              "      <td>...</td>\n",
              "      <td>...</td>\n",
              "      <td>...</td>\n",
              "      <td>...</td>\n",
              "      <td>...</td>\n",
              "      <td>...</td>\n",
              "      <td>...</td>\n",
              "      <td>...</td>\n",
              "      <td>...</td>\n",
              "      <td>...</td>\n",
              "      <td>...</td>\n",
              "      <td>...</td>\n",
              "      <td>...</td>\n",
              "      <td>...</td>\n",
              "    </tr>\n",
              "    <tr>\n",
              "      <th>638449</th>\n",
              "      <td>7044</td>\n",
              "      <td>3751</td>\n",
              "      <td>1048</td>\n",
              "      <td>50</td>\n",
              "      <td>4</td>\n",
              "      <td>1</td>\n",
              "      <td>0</td>\n",
              "      <td>30</td>\n",
              "      <td>26</td>\n",
              "      <td>8</td>\n",
              "      <td>0</td>\n",
              "      <td>0</td>\n",
              "      <td>0</td>\n",
              "      <td>1</td>\n",
              "      <td>0</td>\n",
              "      <td>0</td>\n",
              "      <td>0</td>\n",
              "      <td>0</td>\n",
              "      <td>1</td>\n",
              "      <td>1</td>\n",
              "      <td>0</td>\n",
              "      <td>0</td>\n",
              "      <td>0</td>\n",
              "      <td>0</td>\n",
              "      <td>1</td>\n",
              "      <td>0</td>\n",
              "      <td>0</td>\n",
              "      <td>1</td>\n",
              "      <td>1</td>\n",
              "      <td>0</td>\n",
              "      <td>0</td>\n",
              "      <td>1</td>\n",
              "      <td>0</td>\n",
              "      <td>0</td>\n",
              "      <td>0</td>\n",
              "      <td>0</td>\n",
              "      <td>1</td>\n",
              "      <td>0</td>\n",
              "      <td>0</td>\n",
              "      <td>0</td>\n",
              "      <td>0</td>\n",
              "      <td>1</td>\n",
              "      <td>0</td>\n",
              "      <td>0</td>\n",
              "      <td>0</td>\n",
              "    </tr>\n",
              "    <tr>\n",
              "      <th>638450</th>\n",
              "      <td>7047</td>\n",
              "      <td>4502</td>\n",
              "      <td>1261</td>\n",
              "      <td>50</td>\n",
              "      <td>6</td>\n",
              "      <td>1</td>\n",
              "      <td>1</td>\n",
              "      <td>62</td>\n",
              "      <td>0</td>\n",
              "      <td>8</td>\n",
              "      <td>0</td>\n",
              "      <td>0</td>\n",
              "      <td>0</td>\n",
              "      <td>1</td>\n",
              "      <td>0</td>\n",
              "      <td>0</td>\n",
              "      <td>0</td>\n",
              "      <td>0</td>\n",
              "      <td>1</td>\n",
              "      <td>0</td>\n",
              "      <td>0</td>\n",
              "      <td>1</td>\n",
              "      <td>0</td>\n",
              "      <td>1</td>\n",
              "      <td>0</td>\n",
              "      <td>0</td>\n",
              "      <td>0</td>\n",
              "      <td>1</td>\n",
              "      <td>1</td>\n",
              "      <td>0</td>\n",
              "      <td>0</td>\n",
              "      <td>1</td>\n",
              "      <td>0</td>\n",
              "      <td>0</td>\n",
              "      <td>0</td>\n",
              "      <td>0</td>\n",
              "      <td>0</td>\n",
              "      <td>1</td>\n",
              "      <td>0</td>\n",
              "      <td>0</td>\n",
              "      <td>0</td>\n",
              "      <td>1</td>\n",
              "      <td>0</td>\n",
              "      <td>0</td>\n",
              "      <td>0</td>\n",
              "    </tr>\n",
              "    <tr>\n",
              "      <th>638451</th>\n",
              "      <td>7048</td>\n",
              "      <td>4501</td>\n",
              "      <td>1261</td>\n",
              "      <td>50</td>\n",
              "      <td>11</td>\n",
              "      <td>1</td>\n",
              "      <td>1</td>\n",
              "      <td>0</td>\n",
              "      <td>6</td>\n",
              "      <td>14</td>\n",
              "      <td>0</td>\n",
              "      <td>0</td>\n",
              "      <td>0</td>\n",
              "      <td>1</td>\n",
              "      <td>1</td>\n",
              "      <td>0</td>\n",
              "      <td>0</td>\n",
              "      <td>0</td>\n",
              "      <td>0</td>\n",
              "      <td>0</td>\n",
              "      <td>0</td>\n",
              "      <td>1</td>\n",
              "      <td>1</td>\n",
              "      <td>0</td>\n",
              "      <td>0</td>\n",
              "      <td>0</td>\n",
              "      <td>0</td>\n",
              "      <td>1</td>\n",
              "      <td>1</td>\n",
              "      <td>0</td>\n",
              "      <td>1</td>\n",
              "      <td>0</td>\n",
              "      <td>0</td>\n",
              "      <td>1</td>\n",
              "      <td>0</td>\n",
              "      <td>0</td>\n",
              "      <td>0</td>\n",
              "      <td>0</td>\n",
              "      <td>0</td>\n",
              "      <td>1</td>\n",
              "      <td>0</td>\n",
              "      <td>0</td>\n",
              "      <td>0</td>\n",
              "      <td>0</td>\n",
              "      <td>0</td>\n",
              "    </tr>\n",
              "    <tr>\n",
              "      <th>638452</th>\n",
              "      <td>7049</td>\n",
              "      <td>5154</td>\n",
              "      <td>1328</td>\n",
              "      <td>50</td>\n",
              "      <td>2</td>\n",
              "      <td>1</td>\n",
              "      <td>1</td>\n",
              "      <td>55</td>\n",
              "      <td>25</td>\n",
              "      <td>9</td>\n",
              "      <td>0</td>\n",
              "      <td>1</td>\n",
              "      <td>0</td>\n",
              "      <td>1</td>\n",
              "      <td>0</td>\n",
              "      <td>0</td>\n",
              "      <td>0</td>\n",
              "      <td>0</td>\n",
              "      <td>1</td>\n",
              "      <td>0</td>\n",
              "      <td>1</td>\n",
              "      <td>0</td>\n",
              "      <td>0</td>\n",
              "      <td>1</td>\n",
              "      <td>0</td>\n",
              "      <td>0</td>\n",
              "      <td>1</td>\n",
              "      <td>0</td>\n",
              "      <td>1</td>\n",
              "      <td>0</td>\n",
              "      <td>0</td>\n",
              "      <td>1</td>\n",
              "      <td>0</td>\n",
              "      <td>0</td>\n",
              "      <td>0</td>\n",
              "      <td>0</td>\n",
              "      <td>0</td>\n",
              "      <td>1</td>\n",
              "      <td>0</td>\n",
              "      <td>0</td>\n",
              "      <td>0</td>\n",
              "      <td>1</td>\n",
              "      <td>0</td>\n",
              "      <td>0</td>\n",
              "      <td>0</td>\n",
              "    </tr>\n",
              "    <tr>\n",
              "      <th>638453</th>\n",
              "      <td>7051</td>\n",
              "      <td>4209</td>\n",
              "      <td>1344</td>\n",
              "      <td>50</td>\n",
              "      <td>11</td>\n",
              "      <td>1</td>\n",
              "      <td>1</td>\n",
              "      <td>0</td>\n",
              "      <td>6</td>\n",
              "      <td>0</td>\n",
              "      <td>0</td>\n",
              "      <td>1</td>\n",
              "      <td>0</td>\n",
              "      <td>1</td>\n",
              "      <td>0</td>\n",
              "      <td>0</td>\n",
              "      <td>0</td>\n",
              "      <td>0</td>\n",
              "      <td>1</td>\n",
              "      <td>0</td>\n",
              "      <td>1</td>\n",
              "      <td>0</td>\n",
              "      <td>1</td>\n",
              "      <td>0</td>\n",
              "      <td>0</td>\n",
              "      <td>0</td>\n",
              "      <td>1</td>\n",
              "      <td>0</td>\n",
              "      <td>1</td>\n",
              "      <td>0</td>\n",
              "      <td>1</td>\n",
              "      <td>0</td>\n",
              "      <td>0</td>\n",
              "      <td>0</td>\n",
              "      <td>0</td>\n",
              "      <td>0</td>\n",
              "      <td>0</td>\n",
              "      <td>1</td>\n",
              "      <td>0</td>\n",
              "      <td>1</td>\n",
              "      <td>0</td>\n",
              "      <td>0</td>\n",
              "      <td>0</td>\n",
              "      <td>0</td>\n",
              "      <td>0</td>\n",
              "    </tr>\n",
              "  </tbody>\n",
              "</table>\n",
              "<p>100002 rows × 45 columns</p>\n",
              "</div>"
            ],
            "text/plain": [
              "        Agency Code  ...  Agency_Type_Tribal Police\n",
              "538452         1439  ...                          0\n",
              "538453         1439  ...                          0\n",
              "538454         1439  ...                          0\n",
              "538455         1439  ...                          0\n",
              "538456         1439  ...                          0\n",
              "...             ...  ...                        ...\n",
              "638449         7044  ...                          0\n",
              "638450         7047  ...                          0\n",
              "638451         7048  ...                          0\n",
              "638452         7049  ...                          0\n",
              "638453         7051  ...                          0\n",
              "\n",
              "[100002 rows x 45 columns]"
            ]
          },
          "metadata": {
            "tags": []
          },
          "execution_count": 285
        }
      ]
    },
    {
      "cell_type": "code",
      "metadata": {
        "colab": {
          "base_uri": "https://localhost:8080/"
        },
        "id": "2X1jwI0aeDxk",
        "outputId": "78bdedef-7f4b-40df-862a-56eaacfdacd2"
      },
      "source": [
        "data[:20].dtypes"
      ],
      "execution_count": null,
      "outputs": [
        {
          "output_type": "execute_result",
          "data": {
            "text/plain": [
              "Agency Code                                       int64\n",
              "Agency Name                                       int64\n",
              "City                                              int64\n",
              "State                                             int64\n",
              "Month                                             int64\n",
              "Incident                                          int64\n",
              "Crime Solved                                      int64\n",
              "Victim Age                                        int64\n",
              "Relationship                                      int64\n",
              "Weapon                                            int64\n",
              "Victim Count                                      int64\n",
              "Perpetrator Count                                 int64\n",
              "Crime_Manslaughter by Negligence                  uint8\n",
              "Crime_Murder or Manslaughter                      uint8\n",
              "Victim_Race_Asian/Pacific Islander                uint8\n",
              "Victim_Race_Black                                 uint8\n",
              "Victim_Race_Native American/Alaska Native         uint8\n",
              "Victim_Race_Unknown                               uint8\n",
              "Victim_Race_White                                 uint8\n",
              "Victim_Ethnicity_Hispanic                         uint8\n",
              "Victim_Ethnicity_Not Hispanic                     uint8\n",
              "Victim_Ethnicity_Unknown                          uint8\n",
              "Perpetrator_Sex_Female                            uint8\n",
              "Perpetrator_Sex_Male                              uint8\n",
              "Perpetrator_Sex_Unknown                           uint8\n",
              "Perpetrator_Ethnicity_Hispanic                    uint8\n",
              "Perpetrator_Ethnicity_Not Hispanic                uint8\n",
              "Perpetrator_Ethnicity_Unknown                     uint8\n",
              "Record_Source_FBI                                 uint8\n",
              "Record_Source_FOIA                                uint8\n",
              "Victim_Sex_Female                                 uint8\n",
              "Victim_Sex_Male                                   uint8\n",
              "Victim_Sex_Unknown                                uint8\n",
              "Perpetrator_Race_Asian/Pacific Islander           uint8\n",
              "Perpetrator_Race_Black                            uint8\n",
              "Perpetrator_Race_Native American/Alaska Native    uint8\n",
              "Perpetrator_Race_Unknown                          uint8\n",
              "Perpetrator_Race_White                            uint8\n",
              "Agency_Type_County Police                         uint8\n",
              "Agency_Type_Municipal Police                      uint8\n",
              "Agency_Type_Regional Police                       uint8\n",
              "Agency_Type_Sheriff                               uint8\n",
              "Agency_Type_Special Police                        uint8\n",
              "Agency_Type_State Police                          uint8\n",
              "Agency_Type_Tribal Police                         uint8\n",
              "dtype: object"
            ]
          },
          "metadata": {
            "tags": []
          },
          "execution_count": 286
        }
      ]
    },
    {
      "cell_type": "code",
      "metadata": {
        "id": "I8ub969tY-LX"
      },
      "source": [
        "X = data.drop(['Crime Solved'],axis=1)\n",
        "Y = data['Crime Solved']"
      ],
      "execution_count": null,
      "outputs": []
    },
    {
      "cell_type": "code",
      "metadata": {
        "id": "eOivfy6lY-OE"
      },
      "source": [
        "from sklearn.model_selection import train_test_split\n",
        "X_train,X_test,Y_train,Y_test = train_test_split(X,Y,test_size=0.3,random_state=42)"
      ],
      "execution_count": null,
      "outputs": []
    },
    {
      "cell_type": "code",
      "metadata": {
        "id": "72xqns2DY-Qp"
      },
      "source": [
        "from sklearn.preprocessing import StandardScaler\n",
        "scaler = StandardScaler()\n",
        "scaler.fit(X_train)\n",
        "X_train = scaler.transform(X_train)\n",
        "X_test = scaler.transform(X_test)"
      ],
      "execution_count": null,
      "outputs": []
    },
    {
      "cell_type": "code",
      "metadata": {
        "id": "Obl33LA-ECPP"
      },
      "source": [
        "from sklearn.linear_model import LogisticRegression\n",
        "lm = LogisticRegression()"
      ],
      "execution_count": null,
      "outputs": []
    },
    {
      "cell_type": "code",
      "metadata": {
        "colab": {
          "base_uri": "https://localhost:8080/"
        },
        "id": "uSBfw5redOU3",
        "outputId": "ad3b2e53-8774-4a41-d301-42cafaab3fdd"
      },
      "source": [
        "lm.fit(X_train,Y_train)"
      ],
      "execution_count": null,
      "outputs": [
        {
          "output_type": "execute_result",
          "data": {
            "text/plain": [
              "LogisticRegression(C=1.0, class_weight=None, dual=False, fit_intercept=True,\n",
              "                   intercept_scaling=1, l1_ratio=None, max_iter=100,\n",
              "                   multi_class='auto', n_jobs=None, penalty='l2',\n",
              "                   random_state=None, solver='lbfgs', tol=0.0001, verbose=0,\n",
              "                   warm_start=False)"
            ]
          },
          "metadata": {
            "tags": []
          },
          "execution_count": 291
        }
      ]
    },
    {
      "cell_type": "code",
      "metadata": {
        "id": "tVuUhBvVdOak",
        "colab": {
          "base_uri": "https://localhost:8080/"
        },
        "outputId": "ba2149f1-8ede-4f62-d98a-54f1f874dd01"
      },
      "source": [
        "predictions = lm.predict(X_test)\n",
        "from sklearn import metrics\n",
        "y_pred = lm.predict(X_test)\n",
        "print('Mean Absolute Error:', metrics.mean_absolute_error(Y_test, y_pred))\n",
        "print('Mean Squared Error:', metrics.mean_squared_error(Y_test, y_pred))\n",
        "print('Root Mean Squared Error:', np.sqrt(metrics.mean_squared_error(Y_test, y_pred)))"
      ],
      "execution_count": null,
      "outputs": [
        {
          "output_type": "stream",
          "text": [
            "Mean Absolute Error: 0.0007666411119629346\n",
            "Mean Squared Error: 0.0007666411119629346\n",
            "Root Mean Squared Error: 0.027688284742160077\n"
          ],
          "name": "stdout"
        }
      ]
    },
    {
      "cell_type": "code",
      "metadata": {
        "id": "0gemOjeCdOf1",
        "colab": {
          "base_uri": "https://localhost:8080/"
        },
        "outputId": "0a4b4d6e-f399-4ff4-c09c-c85724d992cf"
      },
      "source": [
        "print(y_pred)"
      ],
      "execution_count": null,
      "outputs": [
        {
          "output_type": "stream",
          "text": [
            "[1 0 0 ... 0 1 1]\n"
          ],
          "name": "stdout"
        }
      ]
    },
    {
      "cell_type": "code",
      "metadata": {
        "id": "rVYF8hESdqfH",
        "colab": {
          "base_uri": "https://localhost:8080/"
        },
        "outputId": "7dda7754-8469-443e-bcd5-d6ba5bdd927f"
      },
      "source": [
        "lm.score(X_test,Y_test)#final accuracy"
      ],
      "execution_count": null,
      "outputs": [
        {
          "output_type": "execute_result",
          "data": {
            "text/plain": [
              "0.9992333588880371"
            ]
          },
          "metadata": {
            "tags": []
          },
          "execution_count": 294
        }
      ]
    },
    {
      "cell_type": "code",
      "metadata": {
        "id": "f2qgLochdqhl"
      },
      "source": [
        "from sklearn.tree import DecisionTreeClassifier\n",
        "from sklearn import metrics \n",
        "clf = DecisionTreeClassifier()\n",
        "clf = clf.fit(X_train,Y_train)\n",
        "y_pred = clf.predict(X_test)"
      ],
      "execution_count": null,
      "outputs": []
    },
    {
      "cell_type": "code",
      "metadata": {
        "id": "ecCphohNdqj4",
        "colab": {
          "base_uri": "https://localhost:8080/"
        },
        "outputId": "13f88eaa-3513-4094-c744-997fcc07f045"
      },
      "source": [
        "print(\"Accuracy:\",metrics.accuracy_score(Y_test, y_pred))\n",
        "print('Mean Absolute Error:', metrics.mean_absolute_error(Y_test, y_pred))\n",
        "print('Mean Squared Error:', metrics.mean_squared_error(Y_test, y_pred))\n",
        "print('Root Mean Squared Error:', np.sqrt(metrics.mean_squared_error(Y_test, y_pred)))"
      ],
      "execution_count": null,
      "outputs": [
        {
          "output_type": "stream",
          "text": [
            "Accuracy: 0.9989000366654445\n",
            "Mean Absolute Error: 0.0010999633345555148\n",
            "Mean Squared Error: 0.0010999633345555148\n",
            "Root Mean Squared Error: 0.03316569514657449\n"
          ],
          "name": "stdout"
        }
      ]
    },
    {
      "cell_type": "code",
      "metadata": {
        "colab": {
          "base_uri": "https://localhost:8080/"
        },
        "id": "ED27oMYJ18-9",
        "outputId": "bafd8292-37f3-43b2-d086-96be16c54ce0"
      },
      "source": [
        "print(y_pred)"
      ],
      "execution_count": null,
      "outputs": [
        {
          "output_type": "stream",
          "text": [
            "[1 0 0 ... 0 1 1]\n"
          ],
          "name": "stdout"
        }
      ]
    },
    {
      "cell_type": "code",
      "metadata": {
        "id": "h01diLLsdqoV"
      },
      "source": [
        "from sklearn.naive_bayes import GaussianNB\n",
        "\n",
        "model = GaussianNB()\n",
        "model.fit(X_train,Y_train)\n",
        "\n",
        "y_predict = model.predict(X_test)"
      ],
      "execution_count": null,
      "outputs": []
    },
    {
      "cell_type": "code",
      "metadata": {
        "id": "B8B3wXHfdqqq",
        "colab": {
          "base_uri": "https://localhost:8080/"
        },
        "outputId": "b421b83a-a252-495e-b49d-6745813d3d50"
      },
      "source": [
        "from sklearn.metrics import accuracy_score\n",
        "accuracy = accuracy_score(Y_test,y_predict)\n",
        "print(accuracy)\n",
        "print('Mean Absolute Error:', metrics.mean_absolute_error(Y_test, y_pred))\n",
        "print('Mean Squared Error:', metrics.mean_squared_error(Y_test, y_pred))\n",
        "print('Root Mean Squared Error:', np.sqrt(metrics.mean_squared_error(Y_test, y_pred)))"
      ],
      "execution_count": null,
      "outputs": [
        {
          "output_type": "stream",
          "text": [
            "0.9985667144428519\n",
            "Mean Absolute Error: 0.0010999633345555148\n",
            "Mean Squared Error: 0.0010999633345555148\n",
            "Root Mean Squared Error: 0.03316569514657449\n"
          ],
          "name": "stdout"
        }
      ]
    },
    {
      "cell_type": "code",
      "metadata": {
        "colab": {
          "base_uri": "https://localhost:8080/"
        },
        "id": "_adrW0N52FBK",
        "outputId": "381d2596-cb03-4682-9f95-20be27e152e0"
      },
      "source": [
        "print(y_pred)"
      ],
      "execution_count": null,
      "outputs": [
        {
          "output_type": "stream",
          "text": [
            "[1 0 0 ... 0 1 1]\n"
          ],
          "name": "stdout"
        }
      ]
    },
    {
      "cell_type": "code",
      "metadata": {
        "colab": {
          "base_uri": "https://localhost:8080/"
        },
        "id": "Incvhtw1zPhg",
        "outputId": "559b33fd-7ad0-4d2e-c4dc-cc4946d253e2"
      },
      "source": [
        "from sklearn.ensemble import RandomForestClassifier \n",
        "clf = RandomForestClassifier(n_estimators = 100)   \n",
        "\n",
        "clf.fit(X_train, Y_train) \n",
        " \n",
        "y_pred = clf.predict(X_test) \n",
        "\n",
        "from sklearn import metrics \n",
        "accuracy_s =  metrics.accuracy_score(Y_test, y_pred)\n",
        "print(accuracy_s)"
      ],
      "execution_count": null,
      "outputs": [
        {
          "output_type": "stream",
          "text": [
            "0.9992000266657778\n"
          ],
          "name": "stdout"
        }
      ]
    },
    {
      "cell_type": "code",
      "metadata": {
        "colab": {
          "base_uri": "https://localhost:8080/"
        },
        "id": "FmuPZk45zPkL",
        "outputId": "02bd9547-cbee-4ecc-f3ef-73b259f0b7a3"
      },
      "source": [
        "print('Mean Absolute Error:', metrics.mean_absolute_error(Y_test, y_pred))\n",
        "print('Mean Squared Error:', metrics.mean_squared_error(Y_test, y_pred))\n",
        "print('Root Mean Squared Error:', np.sqrt(metrics.mean_squared_error(Y_test, y_pred)))"
      ],
      "execution_count": null,
      "outputs": [
        {
          "output_type": "stream",
          "text": [
            "Mean Absolute Error: 0.0007999733342221926\n",
            "Mean Squared Error: 0.0007999733342221926\n",
            "Root Mean Squared Error: 0.028283799854725896\n"
          ],
          "name": "stdout"
        }
      ]
    },
    {
      "cell_type": "code",
      "metadata": {
        "colab": {
          "base_uri": "https://localhost:8080/"
        },
        "id": "1AfP6jOT2KzL",
        "outputId": "8e275462-1190-4393-f1bc-fc406202f424"
      },
      "source": [
        "print(y_pred)"
      ],
      "execution_count": null,
      "outputs": [
        {
          "output_type": "stream",
          "text": [
            "[1 0 0 ... 0 1 1]\n"
          ],
          "name": "stdout"
        }
      ]
    },
    {
      "cell_type": "code",
      "metadata": {
        "colab": {
          "base_uri": "https://localhost:8080/"
        },
        "id": "RH31EWQL0Mx2",
        "outputId": "eb100cf0-dd6d-45aa-f00c-bc3ad962eb64"
      },
      "source": [
        "from sklearn.svm import SVC\n",
        "model = SVC(kernel='rbf',random_state=42)\n",
        "model.fit(X_train,Y_train)"
      ],
      "execution_count": null,
      "outputs": [
        {
          "output_type": "execute_result",
          "data": {
            "text/plain": [
              "SVC(C=1.0, break_ties=False, cache_size=200, class_weight=None, coef0=0.0,\n",
              "    decision_function_shape='ovr', degree=3, gamma='scale', kernel='rbf',\n",
              "    max_iter=-1, probability=False, random_state=42, shrinking=True, tol=0.001,\n",
              "    verbose=False)"
            ]
          },
          "metadata": {
            "tags": []
          },
          "execution_count": 306
        }
      ]
    },
    {
      "cell_type": "code",
      "metadata": {
        "colab": {
          "base_uri": "https://localhost:8080/"
        },
        "id": "ur7SjWRz0M7m",
        "outputId": "387d7953-a846-40c1-b930-cc1a25256f50"
      },
      "source": [
        "confirm = model.predict(X_test)\n",
        "model.score(X_test,Y_test)"
      ],
      "execution_count": null,
      "outputs": [
        {
          "output_type": "execute_result",
          "data": {
            "text/plain": [
              "0.999100029999"
            ]
          },
          "metadata": {
            "tags": []
          },
          "execution_count": 260
        }
      ]
    },
    {
      "cell_type": "code",
      "metadata": {
        "colab": {
          "base_uri": "https://localhost:8080/"
        },
        "id": "BoDWli8f1V2B",
        "outputId": "8e7f9d44-ddec-4076-bb0f-a42f9255d385"
      },
      "source": [
        "from sklearn import metrics\n",
        "print('Mean Absolute Error:', metrics.mean_absolute_error(Y_test, confirm))\n",
        "print('Mean Squared Error:', metrics.mean_squared_error(Y_test, confirm))\n",
        "print('Root Mean Squared Error:', np.sqrt(metrics.mean_squared_error(Y_test, confirm)))"
      ],
      "execution_count": null,
      "outputs": [
        {
          "output_type": "stream",
          "text": [
            "Mean Absolute Error: 0.0008999700009999666\n",
            "Mean Squared Error: 0.0008999700009999666\n",
            "Root Mean Squared Error: 0.029999500012499652\n"
          ],
          "name": "stdout"
        }
      ]
    },
    {
      "cell_type": "code",
      "metadata": {
        "colab": {
          "base_uri": "https://localhost:8080/"
        },
        "id": "MiU5bXCd1Z6E",
        "outputId": "a28e21a1-20e4-4ab6-8aa5-c85dc4d53bfc"
      },
      "source": [
        "from sklearn.svm import SVC\n",
        "model = SVC(kernel='linear',random_state=42)\n",
        "model.fit(X_train,Y_train)"
      ],
      "execution_count": null,
      "outputs": [
        {
          "output_type": "execute_result",
          "data": {
            "text/plain": [
              "SVC(C=1.0, break_ties=False, cache_size=200, class_weight=None, coef0=0.0,\n",
              "    decision_function_shape='ovr', degree=3, gamma='scale', kernel='linear',\n",
              "    max_iter=-1, probability=False, random_state=42, shrinking=True, tol=0.001,\n",
              "    verbose=False)"
            ]
          },
          "metadata": {
            "tags": []
          },
          "execution_count": 307
        }
      ]
    },
    {
      "cell_type": "code",
      "metadata": {
        "colab": {
          "base_uri": "https://localhost:8080/"
        },
        "id": "k0QDzX171Z-Y",
        "outputId": "c73baaed-c3c0-46e1-f620-3b423bc4863b"
      },
      "source": [
        "confirm = model.predict(X_test)\n",
        "model.score(X_test,Y_test)"
      ],
      "execution_count": null,
      "outputs": [
        {
          "output_type": "execute_result",
          "data": {
            "text/plain": [
              "0.9994000199993334"
            ]
          },
          "metadata": {
            "tags": []
          },
          "execution_count": 308
        }
      ]
    },
    {
      "cell_type": "code",
      "metadata": {
        "colab": {
          "base_uri": "https://localhost:8080/"
        },
        "id": "Rly3jNYt1qsN",
        "outputId": "a002551c-2450-496d-e8b9-dc7ef9431aac"
      },
      "source": [
        "from sklearn import metrics\n",
        "print('Mean Absolute Error:', metrics.mean_absolute_error(Y_test, confirm))\n",
        "print('Mean Squared Error:', metrics.mean_squared_error(Y_test, confirm))\n",
        "print('Root Mean Squared Error:', np.sqrt(metrics.mean_squared_error(Y_test, confirm)))"
      ],
      "execution_count": null,
      "outputs": [
        {
          "output_type": "stream",
          "text": [
            "Mean Absolute Error: 0.0005999800006666444\n",
            "Mean Squared Error: 0.0005999800006666444\n",
            "Root Mean Squared Error: 0.02449448918974724\n"
          ],
          "name": "stdout"
        }
      ]
    },
    {
      "cell_type": "code",
      "metadata": {
        "id": "ClExjvz82Zg8",
        "colab": {
          "base_uri": "https://localhost:8080/"
        },
        "outputId": "14fd9185-1d7e-4020-8ab7-cfe59ca3bc0e"
      },
      "source": [
        "print(y_pred)"
      ],
      "execution_count": null,
      "outputs": [
        {
          "output_type": "stream",
          "text": [
            "[1 0 0 ... 0 1 1]\n"
          ],
          "name": "stdout"
        }
      ]
    }
  ]
}